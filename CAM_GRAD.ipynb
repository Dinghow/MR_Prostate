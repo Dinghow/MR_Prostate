{
 "cells": [
  {
   "cell_type": "code",
   "execution_count": 3,
   "metadata": {},
   "outputs": [],
   "source": [
    "import os\n",
    "from glob import glob\n",
    "import csv\n",
    "import cv2\n",
    "import numpy as np\n",
    "import matplotlib.pyplot as plt"
   ]
  },
  {
   "cell_type": "markdown",
   "metadata": {},
   "source": [
    "## Read the true and false files"
   ]
  },
  {
   "cell_type": "code",
   "execution_count": 4,
   "metadata": {},
   "outputs": [
    {
     "name": "stdout",
     "output_type": "stream",
     "text": [
      "228\n",
      "255\n",
      "../../ilab/ProstateX-Screenshots-Train/ProstateX-0000-Finding1-ep2d_diff_tra_DYNDIST_ADC0.bmp\n",
      "(42, 42)\n"
     ]
    },
    {
     "data": {
      "image/png": "[encoded data removed]",
      "text/plain": [
       "<matplotlib.figure.Figure at 0x7f362c192d50>"
      ]
     },
     "metadata": {},
     "output_type": "display_data"
    }
   ],
   "source": [
    "# Change to your own corresponding file path\n",
    "\n",
    "ADC_PATH='../../ilab/ProstateX-Screenshots-Train/'\n",
    "csv_file='../../ilab/ProstateX-Findings-Train.csv'\n",
    "true_files=[]\n",
    "false_files=[]\n",
    "\n",
    "\n",
    "\n",
    "\n",
    "csvFile = open(csv_file, \"r\")\n",
    "reader = csv.reader(csvFile)\n",
    "\n",
    "for item in reader:\n",
    "    if reader.line_num == 1:\n",
    "        continue\n",
    "    pre_name=item[0]+'-Finding'+item[1]\n",
    "    if item[-1]=='TRUE':\n",
    "        true_file=glob(ADC_PATH+pre_name+'*_ADC0.bmp')\n",
    "#         print (true_file)\n",
    "        for tfile in true_file:\n",
    "            true_files.append(tfile)\n",
    "    else:\n",
    "        false_file=glob(ADC_PATH+pre_name+'*_ADC0.bmp')\n",
    "#         print (false_file)\n",
    "        for ffile in false_file:\n",
    "            false_files.append(ffile)\n",
    "            \n",
    "\n",
    "# Since the size of the true data is small, we repeat the true fiels three times.\n",
    "true_files=true_files*3\n",
    "        \n",
    "print (len(true_files))\n",
    "print (len(false_files))\n",
    "\n",
    "print (true_files[0])\n",
    "img=cv2.imread(true_files[0],0)\n",
    "print (img.shape)\n",
    "plt.imshow(img,cmap=plt.cm.gray)\n",
    "plt.show()"
   ]
  },
  {
   "cell_type": "markdown",
   "metadata": {},
   "source": [
    "## Generate the network input data"
   ]
  },
  {
   "cell_type": "code",
   "execution_count": 5,
   "metadata": {},
   "outputs": [
    {
     "name": "stdout",
     "output_type": "stream",
     "text": [
      "(228, 64, 64, 3)\n",
      "(255, 64, 64, 3)\n"
     ]
    },
    {
     "data": {
      "image/png": "[encoded data removed]",
      "text/plain": [
       "<matplotlib.figure.Figure at 0x7f35925740d0>"
      ]
     },
     "metadata": {},
     "output_type": "display_data"
    }
   ],
   "source": [
    "pixel_size=64\n",
    "true_data=np.zeros((len(true_files),pixel_size,pixel_size,3))\n",
    "false_data=np.zeros((len(false_files),pixel_size,pixel_size,3))\n",
    "\n",
    "\n",
    "\n",
    "for t in range(len(true_files)):\n",
    "    true_data[t,...,0]=cv2.resize(cv2.imread(true_files[t],0),(pixel_size,pixel_size))\n",
    "    true_data[t,...,1]=cv2.resize(cv2.imread(true_files[t],0),(pixel_size,pixel_size))\n",
    "    true_data[t,...,2]=cv2.resize(cv2.imread(true_files[t],0),(pixel_size,pixel_size))\n",
    "for f in range(len(false_files)):\n",
    "    false_data[f,...,0]=cv2.resize(cv2.imread(false_files[f],0),(pixel_size,pixel_size))\n",
    "    false_data[f,...,1]=cv2.resize(cv2.imread(false_files[f],0),(pixel_size,pixel_size))\n",
    "    false_data[f,...,2]=cv2.resize(cv2.imread(false_files[f],0),(pixel_size,pixel_size))\n",
    "\n",
    "\n",
    "    \n",
    "print (true_data.shape)\n",
    "print (false_data.shape)\n",
    "\n",
    "plt.imshow(true_data[20,:,:,0])\n",
    "plt.show()"
   ]
  },
  {
   "cell_type": "markdown",
   "metadata": {},
   "source": [
    "## Design the network"
   ]
  },
  {
   "cell_type": "code",
   "execution_count": 6,
   "metadata": {},
   "outputs": [
    {
     "name": "stderr",
     "output_type": "stream",
     "text": [
      "Using TensorFlow backend.\n"
     ]
    }
   ],
   "source": [
    "import gzip,pickle\n",
    "import matplotlib\n",
    "import matplotlib.pyplot as plt\n",
    "import numpy as np\n",
    "from keras.layers import (Activation, Convolution2D, Dense, Dropout, Flatten,\n",
    "                          MaxPooling2D,normalization)\n",
    "from keras.models import Sequential\n",
    "from keras.layers.normalization import BatchNormalization\n",
    "from keras.utils import np_utils\n",
    "import os,sys\n",
    "from keras.callbacks import EarlyStopping,ModelCheckpoint,ReduceLROnPlateau\n",
    "import matplotlib\n",
    "import matplotlib.pyplot as plt\n",
    "import numpy as np\n",
    "from keras.layers import (Activation, Convolution2D, Dense, Dropout, Flatten,\n",
    "                          MaxPooling2D,normalization,Cropping2D,Conv2D,Cropping2D,GlobalAveragePooling2D)\n",
    "from keras.models import Sequential\n",
    "from keras.layers.normalization import BatchNormalization\n",
    "from keras.utils import np_utils\n",
    "import os\n",
    "from keras.callbacks import EarlyStopping,ModelCheckpoint,ReduceLROnPlateau\n",
    "from keras.layers.convolutional import (\n",
    "    Conv2D,\n",
    "    AveragePooling2D,\n",
    "    MaxPooling2D,\n",
    "    ZeroPadding2D\n",
    "    \n",
    ")\n",
    "from keras import backend as K\n",
    "from keras.callbacks import TensorBoard\n",
    "\n",
    "from keras.models import Model\n",
    "from keras.layers import Input, Dense, merge,BatchNormalization,UpSampling2D\n",
    "from keras import optimizers\n",
    "\n",
    "from scipy import misc\n",
    "from glob import glob\n",
    "import shutil,random\n",
    "import keras\n",
    "from keras.layers.merge import add,concatenate,multiply,average,maximum\n",
    "\n",
    "from keras.layers import Input,Dense,UpSampling2D,ZeroPadding2D\n",
    "from keras.models import Model"
   ]
  },
  {
   "cell_type": "code",
   "execution_count": 7,
   "metadata": {},
   "outputs": [
    {
     "name": "stdout",
     "output_type": "stream",
     "text": [
      "(386, 64, 64, 3)\n",
      "(97, 64, 64, 3)\n"
     ]
    }
   ],
   "source": [
    "data=np.vstack((true_data,false_data))\n",
    "\n",
    "true_label=[[0,1]]\n",
    "false_label=[[1,0]]\n",
    "label=np.array(true_label*len(true_data)+false_label*len(false_data))\n",
    "\n",
    "\n",
    "\n",
    "def unison_shuffled_copies(a, b,rl):\n",
    "    assert len(a) == len(b)\n",
    "    r=range(len(a))\n",
    "    random.shuffle(r,lambda:rl)\n",
    "    p=np.array(r)\n",
    "    #p = np.random.permutation(len(a))\n",
    "    return a[p], b[p]\n",
    "\n",
    "data,label=unison_shuffled_copies(data,label,0.2)\n",
    "\n",
    "splitpoint = int(round(len(data) * 0.8))\n",
    "(x_train, x_val) = (data[0:splitpoint], data[splitpoint:])\n",
    "(y_train, y_val) = (label[0:splitpoint], label[splitpoint:])\n",
    "\n",
    "print (x_train.shape)\n",
    "print (x_val.shape)"
   ]
  },
  {
   "cell_type": "code",
   "execution_count": 8,
   "metadata": {
    "scrolled": true
   },
   "outputs": [
    {
     "name": "stdout",
     "output_type": "stream",
     "text": [
      "_________________________________________________________________\n",
      "Layer (type)                 Output Shape              Param #   \n",
      "=================================================================\n",
      "input_1 (InputLayer)         (None, 64, 64, 3)         0         \n",
      "_________________________________________________________________\n",
      "conv2d_1 (Conv2D)            (None, 62, 62, 64)        1792      \n",
      "_________________________________________________________________\n",
      "max_pooling2d_1 (MaxPooling2 (None, 31, 31, 64)        0         \n",
      "_________________________________________________________________\n",
      "conv2d_2 (Conv2D)            (None, 29, 29, 64)        36928     \n",
      "_________________________________________________________________\n",
      "max_pooling2d_2 (MaxPooling2 (None, 14, 14, 64)        0         \n",
      "_________________________________________________________________\n",
      "conv2d_3 (Conv2D)            (None, 12, 12, 64)        36928     \n",
      "_________________________________________________________________\n",
      "max_pooling2d_3 (MaxPooling2 (None, 6, 6, 64)          0         \n",
      "_________________________________________________________________\n",
      "conv2d_4 (Conv2D)            (None, 4, 4, 64)          36928     \n",
      "_________________________________________________________________\n",
      "max_pooling2d_4 (MaxPooling2 (None, 2, 2, 64)          0         \n",
      "_________________________________________________________________\n",
      "dense_1 (Dense)              (None, 2, 2, 128)         8320      \n",
      "_________________________________________________________________\n",
      "dropout_1 (Dropout)          (None, 2, 2, 128)         0         \n",
      "_________________________________________________________________\n",
      "flatten_1 (Flatten)          (None, 512)               0         \n",
      "_________________________________________________________________\n",
      "dense_2 (Dense)              (None, 2)                 1026      \n",
      "=================================================================\n",
      "Total params: 121,922\n",
      "Trainable params: 121,922\n",
      "Non-trainable params: 0\n",
      "_________________________________________________________________\n",
      "Train on 386 samples, validate on 97 samples\n",
      "Epoch 1/100\n",
      "386/386 [==============================] - 3s 7ms/step - loss: 4.7721 - acc: 0.4689 - val_loss: 0.8594 - val_acc: 0.5670\n",
      "Epoch 2/100\n",
      "386/386 [==============================] - 0s 724us/step - loss: 0.9445 - acc: 0.5466 - val_loss: 0.5226 - val_acc: 0.7938\n",
      "Epoch 3/100\n",
      "386/386 [==============================] - 0s 703us/step - loss: 0.6737 - acc: 0.6192 - val_loss: 0.7375 - val_acc: 0.4639\n",
      "Epoch 4/100\n",
      "386/386 [==============================] - 0s 701us/step - loss: 0.5956 - acc: 0.6813 - val_loss: 0.6198 - val_acc: 0.7216\n",
      "Epoch 5/100\n",
      "386/386 [==============================] - 0s 714us/step - loss: 0.5162 - acc: 0.7902 - val_loss: 0.6452 - val_acc: 0.6495\n",
      "Epoch 6/100\n",
      "386/386 [==============================] - 0s 714us/step - loss: 0.4327 - acc: 0.8316 - val_loss: 0.5269 - val_acc: 0.7732\n",
      "Epoch 7/100\n",
      "386/386 [==============================] - 0s 793us/step - loss: 0.2934 - acc: 0.9119 - val_loss: 0.5548 - val_acc: 0.7835\n",
      "Epoch 8/100\n",
      "386/386 [==============================] - 0s 701us/step - loss: 0.2181 - acc: 0.9301 - val_loss: 0.4638 - val_acc: 0.8454\n",
      "Epoch 9/100\n",
      "386/386 [==============================] - 0s 728us/step - loss: 0.1401 - acc: 0.9637 - val_loss: 0.4340 - val_acc: 0.8041\n",
      "Epoch 10/100\n",
      "386/386 [==============================] - 0s 727us/step - loss: 0.1294 - acc: 0.9663 - val_loss: 1.0024 - val_acc: 0.6289\n",
      "Epoch 11/100\n",
      "386/386 [==============================] - 0s 731us/step - loss: 0.0923 - acc: 0.9689 - val_loss: 0.4528 - val_acc: 0.7938\n",
      "Epoch 12/100\n",
      "386/386 [==============================] - 0s 705us/step - loss: 0.0603 - acc: 0.9922 - val_loss: 0.5927 - val_acc: 0.8041\n",
      "Epoch 13/100\n",
      "386/386 [==============================] - 0s 679us/step - loss: 0.0482 - acc: 0.9845 - val_loss: 0.4436 - val_acc: 0.8144\n",
      "Epoch 14/100\n",
      "386/386 [==============================] - 0s 747us/step - loss: 0.0454 - acc: 0.9870 - val_loss: 0.4740 - val_acc: 0.8351\n",
      "Epoch 15/100\n",
      "386/386 [==============================] - 0s 734us/step - loss: 0.0302 - acc: 0.9974 - val_loss: 0.2863 - val_acc: 0.8866\n",
      "Epoch 16/100\n",
      "386/386 [==============================] - 0s 746us/step - loss: 0.0206 - acc: 0.9974 - val_loss: 0.5219 - val_acc: 0.8351\n",
      "Epoch 17/100\n",
      "386/386 [==============================] - 0s 742us/step - loss: 0.0293 - acc: 0.9948 - val_loss: 0.5513 - val_acc: 0.8041\n",
      "Epoch 18/100\n",
      "386/386 [==============================] - 0s 729us/step - loss: 0.0233 - acc: 0.9974 - val_loss: 0.2877 - val_acc: 0.8866\n",
      "Epoch 19/100\n",
      "386/386 [==============================] - 0s 736us/step - loss: 0.0286 - acc: 0.9922 - val_loss: 0.6943 - val_acc: 0.8041\n",
      "Epoch 20/100\n",
      "386/386 [==============================] - 0s 741us/step - loss: 0.0397 - acc: 0.9974 - val_loss: 0.5883 - val_acc: 0.8144\n",
      "Epoch 21/100\n",
      "386/386 [==============================] - 0s 797us/step - loss: 0.1090 - acc: 0.9767 - val_loss: 0.7729 - val_acc: 0.7526\n",
      "Epoch 22/100\n",
      "386/386 [==============================] - 0s 722us/step - loss: 0.0528 - acc: 0.9819 - val_loss: 0.5863 - val_acc: 0.8557\n",
      "Epoch 23/100\n",
      "386/386 [==============================] - 0s 742us/step - loss: 0.0307 - acc: 0.9922 - val_loss: 0.5315 - val_acc: 0.8557\n",
      "Epoch 24/100\n",
      "386/386 [==============================] - 0s 738us/step - loss: 0.0153 - acc: 0.9974 - val_loss: 0.4678 - val_acc: 0.8763\n",
      "Epoch 25/100\n",
      "386/386 [==============================] - 0s 725us/step - loss: 0.0127 - acc: 0.9974 - val_loss: 0.5776 - val_acc: 0.8351\n"
     ]
    },
    {
     "data": {
      "text/plain": [
       "<keras.callbacks.History at 0x7f35ee73c450>"
      ]
     },
     "execution_count": 8,
     "metadata": {},
     "output_type": "execute_result"
    }
   ],
   "source": [
    "input_1=Input(shape=(pixel_size,pixel_size,3))\n",
    "conv_1=Conv2D(64,(3,3),activation='relu')(input_1)\n",
    "max_1=MaxPooling2D((2,2))(conv_1)\n",
    "\n",
    "conv_2=Conv2D(64,(3,3),activation='relu')(max_1)\n",
    "max_2=MaxPooling2D((2,2))(conv_2)\n",
    "\n",
    "conv_3=Conv2D(64,(3,3),activation='relu')(max_2)\n",
    "max_3=MaxPooling2D((2,2))(conv_3)\n",
    "\n",
    "conv_4=Conv2D(64,(3,3),activation='relu')(max_3)\n",
    "max_4=MaxPooling2D((2,2))(conv_4)\n",
    "\n",
    "# conv_5=Conv2D(64,(3,3),activation='relu')(max_4)\n",
    "# max_5=MaxPooling2D((2,2))(conv_5)\n",
    "\n",
    "Dense_1=Dense(128)(max_4)\n",
    "Dense_1=Dropout(0.3)(Dense_1)\n",
    "flatten_concat=Flatten()(Dense_1)\n",
    "Dense_2=Dense(2,activation='softmax')(flatten_concat)\n",
    "\n",
    "re_lr=ReduceLROnPlateau(monitor='val_loss', factor=0.2, \n",
    "                                patience=5,  mode='auto')\n",
    "early_stopper = EarlyStopping(min_delta=0.001, patience=10)\n",
    "\n",
    "model = Model(inputs=input_1, outputs=Dense_2)\n",
    "\n",
    "model.summary()\n",
    "model.compile(optimizer='adam',loss='categorical_crossentropy',metrics=['accuracy'])\n",
    "\n",
    "model.fit(x_train,y_train,batch_size=20,epochs=100,\n",
    "         validation_data=(x_val,y_val),\n",
    "         callbacks=[re_lr,early_stopper])"
   ]
  },
  {
   "cell_type": "markdown",
   "metadata": {},
   "source": [
    "## Heatmap Generation Process\n",
    "Reference : http://www.hackevolve.com/where-cnn-is-looking-grad-cam/"
   ]
  },
  {
   "cell_type": "code",
   "execution_count": 9,
   "metadata": {
    "scrolled": false
   },
   "outputs": [],
   "source": [
    "# reference: http://www.hackevolve.com/where-cnn-is-looking-grad-cam/\n",
    "\n",
    "x=x_val[:1,...]\n",
    "preds=model.predict(x)\n",
    "class_idx = np.argmax(preds[0])\n",
    "class_output = model.output[:, class_idx]\n",
    "\n",
    "last_conv_layer = model.get_layer(index=-5)\n",
    "\n",
    "grads = K.gradients(class_output, last_conv_layer.output)[0]\n",
    "pooled_grads = K.mean(grads, axis=(0, 1, 2))\n",
    "iterate = K.function([model.input], [pooled_grads, last_conv_layer.output[0]])\n",
    "pooled_grads_value, conv_layer_output_value = iterate([x])\n",
    "for i in range(64):\n",
    "    conv_layer_output_value[:, :, i] *= pooled_grads_value[i]"
   ]
  },
  {
   "cell_type": "code",
   "execution_count": 10,
   "metadata": {},
   "outputs": [],
   "source": [
    "heatmap = np.mean(conv_layer_output_value, axis=-1)\n",
    "heatmap = np.maximum(heatmap, 0)\n",
    "heatmap /= np.max(heatmap)"
   ]
  },
  {
   "cell_type": "code",
   "execution_count": 31,
   "metadata": {},
   "outputs": [
    {
     "name": "stdout",
     "output_type": "stream",
     "text": [
      "(64, 64, 3)\n",
      "(64, 64, 3)\n"
     ]
    },
    {
     "data": {
      "image/png": "[encoded data removed]",
      "text/plain": [
       "<matplotlib.figure.Figure at 0x7f35e8449650>"
      ]
     },
     "metadata": {},
     "output_type": "display_data"
    },
    {
     "data": {
      "image/png": "[encoded data removed]",
      "text/plain": [
       "<matplotlib.figure.Figure at 0x7f35e85ad110>"
      ]
     },
     "metadata": {},
     "output_type": "display_data"
    },
    {
     "data": {
      "image/png": "[encoded data removed]",
      "text/plain": [
       "<matplotlib.figure.Figure at 0x7f35e83c1650>"
      ]
     },
     "metadata": {},
     "output_type": "display_data"
    }
   ],
   "source": [
    "print (x[0].shape)\n",
    "heatmap = cv2.resize(heatmap, (pixel_size, pixel_size))\n",
    "print (heatmap.shape)\n",
    "heatmap = np.uint8(255 * heatmap)\n",
    "heatmap = cv2.applyColorMap(heatmap, cv2.COLORMAP_JET)\n",
    "\n",
    "\n",
    "####************Here need to improve****############\n",
    "plt.imshow(heatmap)\n",
    "plt.show()\n",
    "\n",
    "plt.imshow(np.uint8(x[0]*255))\n",
    "plt.show()\n",
    "\n",
    "superimposed_img = cv2.addWeighted(np.uint8(x[0]), 0.6, heatmap, 0.4, 0)\n",
    "plt.imshow(heatmap)\n",
    "plt.show()\n",
    "####************Here need to improve****############\n"
   ]
  },
  {
   "cell_type": "code",
   "execution_count": null,
   "metadata": {},
   "outputs": [],
   "source": []
  }
 ],
 "metadata": {
  "kernelspec": {
   "display_name": "Python2(conda)",
   "language": "python",
   "name": "py27"
  },
  "language_info": {
   "codemirror_mode": {
    "name": "ipython",
    "version": 2
   },
   "file_extension": ".py",
   "mimetype": "text/x-python",
   "name": "python",
   "nbconvert_exporter": "python",
   "pygments_lexer": "ipython2",
   "version": "2.7.15"
  }
 },
 "nbformat": 4,
 "nbformat_minor": 2
}
