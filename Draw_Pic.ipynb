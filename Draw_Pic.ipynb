{
 "cells": [
  {
   "cell_type": "code",
   "execution_count": 10,
   "metadata": {
    "collapsed": true
   },
   "outputs": [],
   "source": [
    "from Voxel_Data_Process import *\n",
    "import gzip,pickle\n",
    "import numpy as np\n",
    "\n",
    "from sklearn.metrics import confusion_matrix\n",
    "from sklearn.metrics import classification_report\n",
    "from sklearn.metrics import recall_score\n",
    "from sklearn.metrics import roc_curve, auc\n",
    "\n",
    "from scipy import interp\n",
    "import matplotlib.pyplot as plt\n",
    "\n",
    "\n",
    "# 定义输入的图片尺寸，图片为正方形\n",
    "pixel_size = 64\n",
    "\n",
    "# 读取实际的y_val的值的函数\n",
    "def read_y_val(pixel_size, fold):\n",
    "    (x_train,y_train,x_val,y_val)=load_fold_data(pixel_size,fold)\n",
    "#     (x_train,y_train,x_val,y_val)=k_fold(pixel_size,fold)\n",
    "\n",
    "    return y_val\n",
    "\n",
    "# 测试代码\n",
    "# y_val = read_y_val(pixel_size, 1)\n",
    "# print('ssssssssssssssss')\n",
    "# print(y_val.shape)\n"
   ]
  },
  {
   "cell_type": "code",
   "execution_count": 11,
   "metadata": {
    "collapsed": true
   },
   "outputs": [],
   "source": [
    "# 将y_val从[0 1]的双标签转为单标签\n",
    "def convert_label(y_val):\n",
    "    \n",
    "    \n",
    "    y_val_after = []\n",
    "    y_val = list(y_val)\n",
    "    \n",
    "    for t in y_val:\n",
    "        t = list(t)       \n",
    "        if t == [1,0]:\n",
    "            y_val_after.append(0)\n",
    "        else:\n",
    "            y_val_after.append(1)\n",
    "    \n",
    "    return (np.array(y_val_after))\n",
    "\n",
    "def convert_label_pred(y_val_pred):\n",
    "    # 阈值\n",
    "    threshold = 0.5\n",
    "    \n",
    "    predicted_class = []\n",
    "    \n",
    "    for temp in y_val_pred:\n",
    "        if temp[1] < threshold:\n",
    "            predicted_class.append(0)\n",
    "        else:\n",
    "            predicted_class.append(1)\n",
    "        \n",
    "    return (np.array(predicted_class))\n",
    "    \n",
    "# 测试代码\n",
    "# y_val = convert_label(y_val)\n",
    "# print (y_val)"
   ]
  },
  {
   "cell_type": "code",
   "execution_count": 12,
   "metadata": {
    "collapsed": true
   },
   "outputs": [],
   "source": [
    "# 测试代码\n",
    "# function = 'Original_CNN'\n",
    "# time = 1\n",
    "\n",
    "# 读取实验预测的y_val_pred的值,画roc时需要将概率转换为0,1标签\n",
    "def read_y_val_pred(function, time, ROC):\n",
    "    \n",
    "    # 预测的y_val_pred, 0-4对于第几则训练\n",
    "    y_val_pred = []\n",
    "    \n",
    "    # 判断是否含有SVM\n",
    "    if ('SVM' in function):\n",
    "        function1 = function[:-4]\n",
    "        \n",
    "        for fold in range(1,6):\n",
    "            with gzip.open('../Voxel_PY/Predict/'+function1+'/'+function+'_Pred_'+str(fold)+'_'+str(time)+'.pkl','rb') as f:\n",
    "                temp = pickle.load(f)\n",
    "                if ROC == 0:\n",
    "                    temp = convert_label_pred(temp)\n",
    "                y_val_pred.append(temp)\n",
    "        print ('SVM')\n",
    "    else:\n",
    "        for fold in range(1,6):\n",
    "            with gzip.open('../Voxel_PY/Predict/'+function+'/'+function+'_Pred_'+str(fold)+'_'+str(time)+'.pkl','rb') as f:\n",
    "                temp = pickle.load(f)\n",
    "                print (temp.shape)\n",
    "                if ROC == 0:\n",
    "                    temp = convert_label_pred(temp)\n",
    "                y_val_pred.append(temp)\n",
    "        print ('No, SVM')\n",
    "        \n",
    "        \n",
    "    return y_val_pred\n",
    "\n"
   ]
  },
  {
   "cell_type": "code",
   "execution_count": null,
   "metadata": {
    "collapsed": true
   },
   "outputs": [],
   "source": []
  },
  {
   "cell_type": "code",
   "execution_count": null,
   "metadata": {
    "collapsed": true
   },
   "outputs": [],
   "source": []
  },
  {
   "cell_type": "code",
   "execution_count": 3,
   "metadata": {},
   "outputs": [
    {
     "name": "stdout",
     "output_type": "stream",
     "text": [
      "Data load success....\n",
      "Data load success....\n",
      "Data load success....\n",
      "Data load success....\n",
      "Data load success....\n"
     ]
    }
   ],
   "source": [
    "# 获取实际的y_val\n",
    "y_val = []\n",
    "for fold in range(1, 6):\n",
    "    temp = read_y_val(pixel_size, fold)\n",
    "    temp = convert_label(temp)\n",
    "    y_val.append(temp)"
   ]
  },
  {
   "cell_type": "code",
   "execution_count": null,
   "metadata": {
    "collapsed": true,
    "scrolled": true
   },
   "outputs": [],
   "source": [
    "# 测试代码\n",
    "\n",
    "y_origin = []\n",
    "for fold in range(1, 6):\n",
    "    temp = read_y_val(pixel_size, fold) \n",
    "#     temp= convert_label(temp)\n",
    "    y_origin.append(temp)\n",
    "    \n",
    "function = 'Single_Dilation_Conv'\n",
    "# function = 'Single_View'\n",
    "\n",
    "time = 0\n",
    "mean_tpr = 0.0\n",
    "mean_fpr = np.linspace(0, 1, 100)\n",
    "\n",
    "y_pred = read_y_val_pred(function, time,0)\n",
    "\n",
    "for fold in range(0, 5):\n",
    "    fpr, tpr, thresholds = roc_curve(y_origin[fold].ravel(), y_pred[fold].ravel())\n",
    "    mean_tpr += interp(mean_fpr, fpr, tpr)\n",
    "    mean_tpr[0] = 0.0\n",
    "#     roc_auc = auc(fpr, tpr)\n",
    "#     plt.plot(fpr, tpr,\n",
    "#         label='ROC fold %d (area = %0.4f)' % (fold, roc_auc))\n",
    "\n",
    "# 计算fpr, tpr平均值\n",
    "mean_tpr /= 5\n",
    "mean_tpr[-1] = 1.0\n",
    "mean_auc = auc(mean_fpr, mean_tpr)\n",
    "\n",
    "plt.plot(mean_fpr, mean_tpr, linestyle='--',\n",
    "    label=function+' (AUC = %0.4f)' % mean_auc)\n",
    "lw = 2\n",
    "# 画ROC曲线\n",
    "plt.grid(True)\n",
    "plt.plot([0,0.5],[0,1], linestyle='--', lw=lw)\n",
    "plt.xlim([0,0.5])\n",
    "plt.ylim([0,1])\n",
    "plt.xlabel('False Positive Rate')\n",
    "plt.ylabel('True Positive Rate')\n",
    "plt.title('Receiver operating characteristic example')\n",
    "plt.legend(loc=\"lower right\")\n",
    "#     plt.savefig('/home/ilab/Jupyter/CNN/Voxel_PY/Result/Result.png')\n",
    "plt.show()"
   ]
  },
  {
   "cell_type": "code",
   "execution_count": null,
   "metadata": {
    "collapsed": true
   },
   "outputs": [],
   "source": []
  },
  {
   "cell_type": "code",
   "execution_count": null,
   "metadata": {
    "collapsed": true
   },
   "outputs": [],
   "source": []
  },
  {
   "cell_type": "code",
   "execution_count": 4,
   "metadata": {
    "collapsed": true
   },
   "outputs": [],
   "source": [
    "# 求 Accuracy, Recall, sensitivity and specificity \n",
    "def ARSS(function, time):\n",
    "    \n",
    "    # 下标0-4对于第几则训练，5为平均值\n",
    "    accuracy = []\n",
    "    sensitivity = []\n",
    "    specificity = []\n",
    "    recall = []\n",
    "    # 预测的y_val_pred\n",
    "    y_val_pred = read_y_val_pred(function, time, 0)\n",
    "    \n",
    "        \n",
    "    # 初始化 False Positive Rate和True Positive Rate\n",
    "    mean_tpr = 0.0\n",
    "    mean_fpr = np.linspace(0, 1, 100)\n",
    "    \n",
    "    for fold in range(0, 5):\n",
    "        \n",
    "        \n",
    "        cm1 = confusion_matrix(y_val[fold], y_val_pred[fold])\n",
    "        total1=sum(sum(cm1))\n",
    "        \n",
    "        # 计算recall        \n",
    "        recall1 = recall_score(y_val[fold], y_val_pred[fold], average='weighted')\n",
    "        recall.append(recall1)\n",
    "        #####from confusion matrix calculate accuracy\n",
    "        accuracy1=float((cm1[0,0]+cm1[1,1]))/float(total1)\n",
    "        accuracy.append(accuracy1)\n",
    "         \n",
    "        sensitivity1 = float(cm1[0,0])/float((cm1[0,0]+cm1[0,1]))\n",
    "        sensitivity.append(sensitivity1)\n",
    "        \n",
    "        specificity1 = float(cm1[1,1])/float((cm1[1,0]+cm1[1,1]))\n",
    "        specificity.append(specificity1)\n",
    "        \n",
    "\n",
    "    # 计算平均值\n",
    "    accuracy_mean = (accuracy[0]+accuracy[1]+accuracy[2]+accuracy[3]+accuracy[4])/5\n",
    "    sensitivity_mean = (sensitivity[0]+sensitivity[1]+sensitivity[2]+sensitivity[3]+sensitivity[4])/5\n",
    "    specificity_mean = (specificity[0]+specificity[1]+specificity[2]+specificity[3]+specificity[4])/5\n",
    "    recall_mean = (recall[0]+recall[1]+recall[2]+recall[3]+recall[4])/5\n",
    "    accuracy.append(accuracy_mean)\n",
    "    sensitivity.append(sensitivity_mean)\n",
    "    specificity.append(specificity_mean)\n",
    "    recall.append(recall_mean)\n",
    "    \n",
    "    \n",
    "    print ('======== '+function+' ========')\n",
    "    print ('Accuracy : '+str(accuracy[5]))\n",
    "    print ('Sensitivity : '+str(sensitivity[5]))\n",
    "    print ('Specificity : '+str(specificity[5]))\n",
    "    print ('Recall : '+str(recall[5]))\n",
    "    \n",
    "    \n",
    "    f = open('/home/ilab/Jupyter/CNN/Voxel_PY/Result/'+function+'.txt','w')\n",
    "    f.write('======== '+function+' ========')\n",
    "    f.write('\\n')\n",
    "    f.write('Accuracy : '+str(accuracy[5])+'\\n')\n",
    "    f.write('Sensitivity : '+str(sensitivity[5])+'\\n')\n",
    "    f.write('Specificity : '+str(specificity[5])+'\\n')\n",
    "    f.write('Recall : '+str(recall[5])+'\\n')\n",
    "    \n",
    "    f.close()\n",
    "       "
   ]
  },
  {
   "cell_type": "code",
   "execution_count": 8,
   "metadata": {
    "scrolled": false
   },
   "outputs": [
    {
     "name": "stdout",
     "output_type": "stream",
     "text": [
      "(142, 2)\n",
      "(142, 2)\n",
      "(142, 2)\n",
      "(142, 2)\n",
      "(142, 2)\n",
      "No, SVM\n",
      "======== Single_View ========\n",
      "Accuracy : 0.859154929577\n",
      "Sensitivity : 0.871428571429\n",
      "Specificity : 0.847222222222\n",
      "Recall : 0.859154929577\n"
     ]
    }
   ],
   "source": [
    "# ARSS('ABM', 1)\n",
    "# ARSS('ABM_SVM', 0)\n",
    "# ARSS('MCrop_SVM', 1)\n",
    "# ARSS('Original_CNN', 0)\n",
    "# ARSS('Single_Dilation', 2)\n",
    "# ARSS('Single_Resnet', 0)\n",
    "# ARSS('9_Planes', 0)\n",
    "\n",
    "# ARSS('Single_Dilation_Conv', 0)\n",
    "# ARSS('Single_View', 0)\n",
    "# ARSS('Original_CNN',0)\n",
    "\n",
    "# ARSS('Single_Dilation_Conv', 0)\n",
    "\n",
    "# # draw_ROC('Single_Dilation_Conv', 3,'pink','Ours')\n",
    "\n",
    "# ARSS('Single_Dilation_3_Conv', 4)\n",
    "# ARSS('Single_Dilation_1_Conv', 4)\n",
    "\n",
    "# ARSS('Single_Dilation_2_Conv', 4)\n",
    "\n",
    "\n",
    "# ARSS('Single_View', 0)\n",
    "ARSS('Single_View', 4)\n",
    "\n",
    "# draw_ROC('Single_Resnet_View', 4,'orange','2D Resnet')\n",
    "\n",
    "# draw_ROC('Orginal_CNN_1')\n",
    "# draw_ROC('Single_Dilation_Conv')"
   ]
  },
  {
   "cell_type": "code",
   "execution_count": null,
   "metadata": {
    "collapsed": true
   },
   "outputs": [],
   "source": []
  },
  {
   "cell_type": "code",
   "execution_count": null,
   "metadata": {
    "collapsed": true
   },
   "outputs": [],
   "source": []
  },
  {
   "cell_type": "code",
   "execution_count": 13,
   "metadata": {},
   "outputs": [
    {
     "name": "stdout",
     "output_type": "stream",
     "text": [
      "Data load success....\n",
      "Data load success....\n",
      "Data load success....\n",
      "Data load success....\n",
      "Data load success....\n"
     ]
    }
   ],
   "source": [
    "y_origin = []\n",
    "for fold in range(1, 6):\n",
    "    temp = read_y_val(pixel_size, fold)    \n",
    "    temp= convert_label(temp)\n",
    "    y_origin.append(temp)"
   ]
  },
  {
   "cell_type": "code",
   "execution_count": 54,
   "metadata": {},
   "outputs": [
    {
     "name": "stdout",
     "output_type": "stream",
     "text": [
      "(142, 2)\n",
      "(142, 2)\n",
      "(142, 2)\n",
      "(142, 2)\n",
      "(142, 2)\n",
      "No, SVM\n",
      "5\n"
     ]
    }
   ],
   "source": [
    "# y_pred = read_y_val_pred('Original_CNN',2, 0)\n",
    "y_pred = read_y_val_pred('Single_Dilation_Conv', 0, 0)\n",
    "\n",
    "print (len(y_pred))\n"
   ]
  },
  {
   "cell_type": "code",
   "execution_count": 14,
   "metadata": {
    "collapsed": true
   },
   "outputs": [],
   "source": [
    "def draw_ROC(function, time,line_color,pic_name):\n",
    "    mean_tpr = 0.0\n",
    "    mean_fpr = np.linspace(0, 1, 100)\n",
    "    y_pred = read_y_val_pred(function, time, 0)\n",
    "    for fold in range(0, 5):\n",
    "        fpr, tpr, thresholds = roc_curve(y_origin[fold].ravel(), y_pred[fold].ravel())\n",
    "        mean_tpr += interp(mean_fpr, fpr, tpr)\n",
    "        mean_tpr[0] = 0.0\n",
    "        \n",
    "    # 计算fpr, tpr平均值\n",
    "    mean_tpr /= 5\n",
    "    mean_tpr[-1] = 1.0\n",
    "    mean_auc = auc(mean_fpr, mean_tpr)\n",
    "\n",
    "    plt.plot(mean_fpr, mean_tpr, linestyle='--',\n",
    "        label=pic_name+' (AUC = %0.3f)' % mean_auc,lw=2,color=line_color)\n",
    "    \n",
    "#     f = open('/home/ilab/Jupyter/CNN/Voxel_PY/Result/'+function+'.txt','a')\n",
    "#     f.write('AUC : '+str(mean_auc)+'\\n')\n",
    "#     f.close()"
   ]
  },
  {
   "cell_type": "code",
   "execution_count": 6,
   "metadata": {},
   "outputs": [
    {
     "name": "stdout",
     "output_type": "stream",
     "text": [
      "(142, 2)\n",
      "(142, 2)\n",
      "(142, 2)\n",
      "(142, 2)\n",
      "(142, 2)\n",
      "No, SVM\n",
      "(142, 2)\n",
      "(142, 2)\n",
      "(142, 2)\n",
      "(142, 2)\n",
      "(142, 2)\n",
      "No, SVM\n"
     ]
    }
   ],
   "source": [
    "draw_ROC('Single_View', 0,'red','Single_View')\n",
    "# draw_ROC('ABM_SVM', 0)\n",
    "# draw_ROC('MCrop_SVM', 1)\n",
    "# draw_ROC('Original_CNN', 0)\n",
    "# draw_ROC('Single_Dilation', 2)\n",
    "# draw_ROC('Single_Resnet', 0)\n",
    "draw_ROC('Single_Dilation_Conv', 0,'green','Single_Dilation_Conv')\n",
    "# draw_ROC('Original_CNN', 0,'orange','3D CNN [4]')\n"
   ]
  },
  {
   "cell_type": "code",
   "execution_count": 15,
   "metadata": {},
   "outputs": [
    {
     "name": "stdout",
     "output_type": "stream",
     "text": [
      "(142, 2)\n",
      "(142, 2)\n",
      "(142, 2)\n",
      "(142, 2)\n",
      "(142, 2)\n",
      "No, SVM\n",
      "(142, 2)\n",
      "(142, 2)\n",
      "(142, 2)\n",
      "(142, 2)\n",
      "(142, 2)\n",
      "No, SVM\n",
      "(142, 2)\n",
      "(142, 2)\n",
      "(142, 2)\n",
      "(142, 2)\n",
      "(142, 2)\n",
      "No, SVM\n",
      "(142, 2)\n",
      "(142, 2)\n",
      "(142, 2)\n",
      "(142, 2)\n",
      "(142, 2)\n",
      "No, SVM\n"
     ]
    },
    {
     "data": {
      "image/png": "[encoded data removed]",
      "text/plain": [
       "<matplotlib.figure.Figure at 0x7f868016add0>"
      ]
     },
     "metadata": {},
     "output_type": "display_data"
    }
   ],
   "source": [
    "draw_ROC('Single_View', 0,'red','2D CNN [34]')\n",
    "draw_ROC('Single_View', 4,'blue','2D Resnet [35]')\n",
    "\n",
    "# draw_ROC('Single_Resnet_View', 4,'orange','2D Resnet')\n",
    "\n",
    "draw_ROC('Orginal_CNN_1', 4,'orange','3D CNN [36]')\n",
    "draw_ROC('Single_Dilation_Conv', 0,'green','Ours')\n",
    "\n",
    "\n",
    "# draw_ROC('Single_Dilation_Conv', 0,'black','Ours')\n",
    "# draw_ROC('Single_Dilation_Conv', 0,'red','Dilation-4')\n",
    "\n",
    "# draw_ROC('Single_Dilation_Conv', 3,'pink','Ours')\n",
    "\n",
    "# draw_ROC('Single_Dilation_3_Conv', 4,'blue','Dilation-1')\n",
    "# draw_ROC('Single_Dilation_1_Conv', 4,'green','Dilation-2')\n",
    "\n",
    "# draw_ROC('Single_Dilation_2_Conv', 4,'black','Dilation-3')\n",
    "\n",
    "# draw_ROC('Single_Dilation_4_Conv', 4,'red','Dilation-4')\n",
    "\n",
    "\n",
    "lw = 2\n",
    "# 画ROC曲线\n",
    "plt.grid(True)\n",
    "# plt.plot([0,0.5],[0,1], linestyle='--',color='black')\n",
    "xlim=np.arange(0,0.6,0.1)\n",
    "ylim=np.arange(0.2,1,0.2)\n",
    "\n",
    "# plt.xticks.set_major_formatter(FormatStrFormatter('%g'))\n",
    "plt.xticks(xlim)\n",
    "plt.yticks(ylim)\n",
    "\n",
    "plt.xlim([0,0.5])\n",
    "plt.ylim([0,1])\n",
    "plt.xlabel('False Positive Rate')\n",
    "plt.ylabel('True Positive Rate')\n",
    "# plt.title('Receiver operating characteristic example')\n",
    "plt.legend(loc=\"lower right\")\n",
    "# plt.savefig('/home/ilab/Jupyter/CNN/Voxel_PY/Result/Result_1.png',figsize=(50, 50), dpi=400)\n",
    "plt.savefig('/home/ilab/Jupyter/CNN/Voxel_PY/Result/Common_Result.png',figsize=(50, 50), dpi=400)\n",
    "\n",
    "plt.show()"
   ]
  },
  {
   "cell_type": "code",
   "execution_count": null,
   "metadata": {
    "collapsed": true
   },
   "outputs": [],
   "source": []
  }
 ],
 "metadata": {
  "kernelspec": {
   "display_name": "Python 2",
   "language": "python",
   "name": "python2"
  },
  "language_info": {
   "codemirror_mode": {
    "name": "ipython",
    "version": 2
   },
   "file_extension": ".py",
   "mimetype": "text/x-python",
   "name": "python",
   "nbconvert_exporter": "python",
   "pygments_lexer": "ipython2",
   "version": "2.7.15"
  }
 },
 "nbformat": 4,
 "nbformat_minor": 2
}
