{
 "cells": [
  {
   "cell_type": "code",
   "execution_count": 1,
   "metadata": {},
   "outputs": [
    {
     "name": "stdout",
     "output_type": "stream",
     "text": [
      "Loaded configurations from (in order) ['/home/ilab/Jupyter/CNN/config/default.ini']\n",
      "OpenCV 2 available, using that for augmentation\n",
      "(353, 64, 64, 64, 1)\n",
      "Start to split dataset....\n",
      "Random split dataset success....\n",
      "Get 9 Planes success...\n"
     ]
    },
    {
     "name": "stderr",
     "output_type": "stream",
     "text": [
      "/home/ilab/anaconda2/lib/python2.7/site-packages/skimage/transform/_warps.py:84: UserWarning: The default mode, 'constant', will be changed to 'reflect' in skimage 0.15.\n",
      "  warn(\"The default mode, 'constant', will be changed to 'reflect' in \"\n"
     ]
    },
    {
     "name": "stdout",
     "output_type": "stream",
     "text": [
      "(564, 64, 64, 1)\n",
      "Get 9 Planes success...\n",
      "(70, 2)\n"
     ]
    }
   ],
   "source": [
    "from Voxel_Data_Process import *\n",
    "import gzip,pickle\n",
    "import numpy as np\n",
    "\n",
    "from sklearn.metrics import confusion_matrix\n",
    "from sklearn.metrics import classification_report\n",
    "from sklearn.metrics import recall_score\n",
    "from sklearn.metrics import roc_curve, auc\n",
    "\n",
    "from scipy import interp\n",
    "import matplotlib.pyplot as plt\n",
    "from Plane_Data_Process import *\n",
    "\n",
    "\n",
    "# 定义输入的图片尺寸，图片为正方形\n",
    "pixel_size = 64\n",
    "function = 'Merge_Resnet_half'\n",
    "\n",
    "aug_times=1\n",
    "\n",
    "\n",
    "\n",
    "# 读取实际的y_val的值的函数\n",
    "def read_y_val(pixel_size, fold):\n",
    "    (x_train,y_train,x_val,y_val)=k_fold(pixel_size,fold)\n",
    "    (x_train,y_train,x_val,y_val)=(x_train[:x_train.shape[0]/aug_times],\n",
    "                                               y_train[:x_train.shape[0]/aug_times],\n",
    "                                               x_val[:x_val.shape[0]/aug_times],\n",
    "                                               y_val[:x_val.shape[0]/aug_times])\n",
    "    #if this is single plane cancel annotation\n",
    "    (x_train,y_train)=handle_data(x_train,y_train,0,64)\n",
    "    print (x_train.shape)\n",
    "    (x_val,y_val)=handle_data(x_val[:x_val.shape[0]/2],y_val[:x_val.shape[0]/2],0,64)\n",
    "\n",
    "    return y_val\n",
    "\n",
    "# 测试代码\n",
    "y_val = read_y_val(pixel_size, 1)\n",
    "print((y_val.shape))"
   ]
  },
  {
   "cell_type": "code",
   "execution_count": 2,
   "metadata": {
    "collapsed": true
   },
   "outputs": [],
   "source": [
    "# 将y_val从[0 1]的双标签转为单标签\n",
    "def convert_label(y_val):\n",
    "    \n",
    "    \n",
    "    y_val_after = []\n",
    "    y_val = list(y_val)\n",
    "    \n",
    "    for t in y_val:\n",
    "        t = list(t)       \n",
    "        if t == [1,0]:\n",
    "            y_val_after.append(0)\n",
    "        else:\n",
    "            y_val_after.append(1)\n",
    "    \n",
    "    return (np.array(y_val_after))\n",
    "\n",
    "\n",
    "def convert_label_pred(y_val_pred):\n",
    "    # 阈值\n",
    "    threshold = 0.5\n",
    "    \n",
    "    predicted_class = []\n",
    "    \n",
    "    for temp in y_val_pred:\n",
    "        if temp[1] < threshold:\n",
    "            predicted_class.append(0)\n",
    "        else:\n",
    "            predicted_class.append(1)\n",
    "        \n",
    "    return (np.array(predicted_class))\n",
    "    \n",
    "# 测试代码\n",
    "# y_val = convert_label(y_val)\n",
    "# print (y_val)"
   ]
  },
  {
   "cell_type": "code",
   "execution_count": 3,
   "metadata": {
    "scrolled": true
   },
   "outputs": [
    {
     "name": "stdout",
     "output_type": "stream",
     "text": [
      "No, SVM\n"
     ]
    }
   ],
   "source": [
    "# 测试代码\n",
    "\n",
    "\n",
    "# 读取实验预测的y_val_pred的值,画roc时需要将概率转换为0,1标签\n",
    "def read_y_val_pred(function, ROC):\n",
    "    \n",
    "    # 预测的y_val_pred, 0-4对于第几则训练\n",
    "    y_val_pred = []\n",
    "    \n",
    "    # 判断是否含有SVM\n",
    "    if ('SVM' in function):\n",
    "        function1 = function[:-7]\n",
    "        \n",
    "        for fold in range(1,6):\n",
    "            with gzip.open('../Learing-CNN/Predict/'+function1+'/'+function+'_Pred_'+str(fold)+'.pkl','rb') as f:\n",
    "                temp = pickle.load(f)\n",
    "                if ROC == 0:\n",
    "                    temp = convert_label_pred(temp)\n",
    "                y_val_pred.append(temp)\n",
    "        print ('SVM')\n",
    "    else:\n",
    "        for fold in range(1,6):\n",
    "            with gzip.open('../Learing-CNN/Predict/'+function+'/'+function+'_Pred_'+str(fold)+'.pkl','rb') as f:\n",
    "                temp = pickle.load(f)\n",
    "                if ROC == 0:\n",
    "                    temp = convert_label_pred(temp)\n",
    "                y_val_pred.append(temp)\n",
    "        print ('No, SVM')\n",
    "        \n",
    "        \n",
    "    return y_val_pred\n",
    "\n",
    "y_val_pred=read_y_val_pred(function,0)\n"
   ]
  },
  {
   "cell_type": "code",
   "execution_count": 4,
   "metadata": {
    "collapsed": true,
    "scrolled": true
   },
   "outputs": [],
   "source": [
    "# 求 Accuracy, Recall, sensitivity and specificity \n",
    "def ARSS(function):\n",
    "    \n",
    "    # 下标0-4对于第几则训练，5为平均值\n",
    "    accuracy = []\n",
    "    sensitivity = []\n",
    "    specificity = []\n",
    "    recall = []\n",
    "    # 预测的y_val_pred\n",
    "    y_val_pred = read_y_val_pred(function,0)\n",
    "    \n",
    "        \n",
    "    # 初始化 False Positive Rate和True Positive Rate\n",
    "    mean_tpr = 0.0\n",
    "    mean_fpr = np.linspace(0, 1, 100)\n",
    "   \n",
    "    # 获取实际的y_val\n",
    "    y_val = []\n",
    "    for fold in range(1, 6):\n",
    "        temp = read_y_val(pixel_size, fold)\n",
    "        temp = convert_label(temp)\n",
    "        y_val.append(temp)\n",
    "    \n",
    "    for fold in range(0, 5): \n",
    "        print (y_val[fold].shape, y_val_pred[fold].shape)\n",
    "        cm1 = confusion_matrix(y_val[fold], y_val_pred[fold])\n",
    "        total1=sum(sum(cm1))\n",
    "        \n",
    "        # 计算recall        \n",
    "        recall1 = recall_score(y_val[fold], y_val_pred[fold], average='weighted')\n",
    "        recall.append(recall1)\n",
    "        #####from confusion matrix calculate accuracy\n",
    "        accuracy1=float((cm1[0,0]+cm1[1,1]))/float(total1)\n",
    "        accuracy.append(accuracy1)\n",
    "         \n",
    "        sensitivity1 = float(cm1[0,0])/float((cm1[0,0]+cm1[0,1]))\n",
    "        sensitivity.append(sensitivity1)\n",
    "        \n",
    "        specificity1 = float(cm1[1,1])/float((cm1[1,0]+cm1[1,1]))\n",
    "        specificity.append(specificity1)\n",
    "        \n",
    "\n",
    "    # 计算平均值\n",
    "    accuracy_mean = (accuracy[0]+accuracy[1]+accuracy[2]+accuracy[3]+accuracy[4])/5\n",
    "    sensitivity_mean = (sensitivity[0]+sensitivity[1]+sensitivity[2]+sensitivity[3]+sensitivity[4])/5\n",
    "    specificity_mean = (specificity[0]+specificity[1]+specificity[2]+specificity[3]+specificity[4])/5\n",
    "    recall_mean = (recall[0]+recall[1]+recall[2]+recall[3]+recall[4])/5\n",
    "    accuracy.append(accuracy_mean)\n",
    "    sensitivity.append(sensitivity_mean)\n",
    "    specificity.append(specificity_mean)\n",
    "    recall.append(recall_mean)\n",
    "    \n",
    "    \n",
    "    print ('======== '+function+' ========')\n",
    "    print ('Accuracy : '+str(accuracy[5]))\n",
    "    print ('Sensitivity : '+str(sensitivity[5]))\n",
    "    print ('Specificity : '+str(specificity[5]))\n",
    "    print ('Recall : '+str(recall[5]))\n",
    "    \n",
    "    \n",
    "    f = open('/home/ilab/Jupyter/Learing-CNN/Result.txt','a+')\n",
    "    f.write('======== '+function+' ========')\n",
    "    f.write('\\n')\n",
    "    f.write('Accuracy : '+str(accuracy[5])+'\\n')\n",
    "    f.write('Sensitivity : '+str(sensitivity[5])+'\\n')\n",
    "    f.write('Specificity : '+str(specificity[5])+'\\n')\n",
    "    f.write('Recall : '+str(recall[5])+'\\n')\n",
    "    f.write('======== '+function+' ========\\n')\n",
    "    \n",
    "    f.close()\n",
    "# ARSS(function)"
   ]
  },
  {
   "cell_type": "code",
   "execution_count": 18,
   "metadata": {
    "scrolled": true
   },
   "outputs": [
    {
     "name": "stdout",
     "output_type": "stream",
     "text": [
      "No, SVM\n",
      "(353, 64, 64, 64, 1)\n",
      "Start to split dataset....\n",
      "Random split dataset success....\n",
      "Get 9 Planes success...\n",
      "(564, 64, 64, 1)\n",
      "Get 9 Planes success...\n",
      "(353, 64, 64, 64, 1)\n",
      "Start to split dataset....\n",
      "Random split dataset success....\n",
      "Get 9 Planes success...\n",
      "(564, 64, 64, 1)\n",
      "Get 9 Planes success...\n",
      "(353, 64, 64, 64, 1)\n",
      "Start to split dataset....\n",
      "Random split dataset success....\n",
      "Get 9 Planes success...\n",
      "(564, 64, 64, 1)\n",
      "Get 9 Planes success...\n",
      "(353, 64, 64, 64, 1)\n",
      "Start to split dataset....\n",
      "Random split dataset success....\n",
      "Get 9 Planes success...\n",
      "(564, 64, 64, 1)\n",
      "Get 9 Planes success...\n",
      "(353, 64, 64, 64, 1)\n",
      "Start to split dataset....\n",
      "Random split dataset success....\n",
      "Get 9 Planes success...\n",
      "(564, 64, 64, 1)\n",
      "Get 9 Planes success...\n",
      "((70,), (70,))\n",
      "((70,), (70,))\n",
      "((70,), (70,))\n",
      "((70,), (70,))\n",
      "((70,), (70,))\n",
      "======== Merge_Resnet_D34 ========\n",
      "Accuracy : 0.845714285714\n",
      "Sensitivity : 0.870588235294\n",
      "Specificity : 0.822222222222\n",
      "Recall : 0.8457142857142858\n"
     ]
    }
   ],
   "source": [
    "# ARSS('Merge_Resnet_No_Convolution')\n",
    "# ARSS('Merge_Resnet_conv_2')\n",
    "# ARSS('Merge_Resnet_conv_3')\n",
    "# ARSS('Resnet')\n",
    "# ARSS('CNN')\n",
    "# ARSS('Vgg16')\n",
    "\n",
    "# ARSS('Resnet')\n",
    "ARSS('Merge_Resnet_D34')\n",
    "# ARSS('Merge_Resnet_D50')\n",
    "\n",
    "# ARSS('Merge_Resnet_third')\n",
    "# ARSS('Merge_Resnet_Depth_14')\n"
   ]
  },
  {
   "cell_type": "code",
   "execution_count": null,
   "metadata": {
    "collapsed": true
   },
   "outputs": [],
   "source": []
  },
  {
   "cell_type": "code",
   "execution_count": null,
   "metadata": {
    "collapsed": true
   },
   "outputs": [],
   "source": []
  },
  {
   "cell_type": "code",
   "execution_count": 5,
   "metadata": {
    "scrolled": true
   },
   "outputs": [
    {
     "name": "stdout",
     "output_type": "stream",
     "text": [
      "(353, 64, 64, 64, 1)\n",
      "Start to split dataset....\n",
      "Random split dataset success....\n",
      "Get 9 Planes success...\n",
      "(564, 64, 64, 1)\n",
      "Get 9 Planes success...\n",
      "(353, 64, 64, 64, 1)\n",
      "Start to split dataset....\n",
      "Random split dataset success....\n",
      "Get 9 Planes success...\n",
      "(564, 64, 64, 1)\n",
      "Get 9 Planes success...\n",
      "(353, 64, 64, 64, 1)\n",
      "Start to split dataset....\n",
      "Random split dataset success....\n",
      "Get 9 Planes success...\n",
      "(564, 64, 64, 1)\n",
      "Get 9 Planes success...\n",
      "(353, 64, 64, 64, 1)\n",
      "Start to split dataset....\n",
      "Random split dataset success....\n",
      "Get 9 Planes success...\n",
      "(564, 64, 64, 1)\n",
      "Get 9 Planes success...\n",
      "(353, 64, 64, 64, 1)\n",
      "Start to split dataset....\n",
      "Random split dataset success....\n",
      "Get 9 Planes success...\n",
      "(564, 64, 64, 1)\n",
      "Get 9 Planes success...\n"
     ]
    }
   ],
   "source": [
    "y_origin = []\n",
    "for fold in range(1, 6):\n",
    "    temp = read_y_val(pixel_size, fold)    \n",
    "    y_origin.append(temp)"
   ]
  },
  {
   "cell_type": "code",
   "execution_count": 6,
   "metadata": {
    "collapsed": true,
    "scrolled": true
   },
   "outputs": [],
   "source": [
    "def draw_ROC(function, line_color,pic_name):\n",
    "    mean_tpr = 0.0\n",
    "    mean_fpr = np.linspace(0, 1, 100)\n",
    "    y_pred = read_y_val_pred(function, 1)    \n",
    "    for fold in range(0, 5):\n",
    "        fpr, tpr, thresholds = roc_curve(y_origin[fold].ravel(), y_pred[fold].ravel())\n",
    "        mean_tpr += interp(mean_fpr, fpr, tpr)\n",
    "        mean_tpr[0] = 0.0\n",
    "        \n",
    "    # 计算fpr, tpr平均值\n",
    "    mean_tpr /= 5\n",
    "    mean_tpr[-1] = 1.0\n",
    "    mean_auc = auc(mean_fpr, mean_tpr)\n",
    "\n",
    "    plt.plot(mean_fpr, mean_tpr, linestyle='--',\n",
    "        label=pic_name+' (AUC = %0.3f)' % mean_auc,lw=2,color=line_color)\n",
    "    f = open('/home/ilab/Jupyter/Learing-CNN/Result.txt','a+')\n",
    "    f.write('======== '+function+' ========\\n')\n",
    "    f.write(''+function+'_AUC : '+str(mean_auc)+'\\n')\n",
    "    f.write('======== '+function+' ========\\n')\n",
    "    f.close()\n",
    "    print ('Draw ROC over...')\n"
   ]
  },
  {
   "cell_type": "code",
   "execution_count": 12,
   "metadata": {},
   "outputs": [
    {
     "name": "stdout",
     "output_type": "stream",
     "text": [
      "No, SVM\n",
      "Draw ROC over...\n",
      "No, SVM\n",
      "Draw ROC over...\n",
      "No, SVM\n",
      "Draw ROC over...\n",
      "No, SVM\n",
      "Draw ROC over...\n"
     ]
    },
    {
     "data": {
      "image/png": "[encoded data removed]",
      "text/plain": [
       "<matplotlib.figure.Figure at 0x7fdff5fc5e50>"
      ]
     },
     "metadata": {},
     "output_type": "display_data"
    }
   ],
   "source": [
    "#state-of-art\n",
    "draw_ROC('CNN','yellow','CNN')\n",
    "draw_ROC('Resnet','green','Resnet')\n",
    "draw_ROC('Vgg16','black','Vgg16')\n",
    "draw_ROC('Merge_Resnet','red','Ours')\n",
    "# draw_ROC('Merge_Resnet_Depth_14','orange','14')\n",
    "# draw_ROC('Merge_Resnet_5_Conv','blue','Add 28 Convolution')\n",
    "# draw_ROC('Merge_Resnet_5_Conv1','grey','7,14,28,64 Convolution')\n",
    "\n",
    "\n",
    "\n",
    "\n",
    "\n",
    "# draw_ROC('Merge_Resnet','red','Merge_Resnet_conv_4')\n",
    "# draw_ROC('Merge_Resnet_conv_2','black','Merge_Resnet_conv_2')\n",
    "# draw_ROC('Merge_Resnet_conv_3','green','Merge_Resnet_conv_3')\n",
    "# draw_ROC('Merge_Resnet_no_fusion','blue','Merge_Resnet_no_fusion')\n",
    "\n",
    "\n",
    "# draw_ROC('Merge_Resnet','red','Fusion strategy:add')\n",
    "# draw_ROC('Merge_Resnet_average','green','Fusion strategy:average')\n",
    "# draw_ROC('Merge_Resnet_concatenate','black','Fusion strategy:concatenate')\n",
    "# draw_ROC('Merge_Resnet_no_fusion','blue','Fusion strategy:no fusion')\n",
    "# draw_ROC('Merge_Resnet_third','yellow','Merge_Resnet_third')\n",
    "\n",
    "\n",
    "\n",
    "from matplotlib.ticker import FormatStrFormatter\n",
    "plt.gca().xaxis.set_major_formatter(FormatStrFormatter('%g'))\n",
    "\n",
    "lw = 2\n",
    "# 画ROC曲线\n",
    "plt.grid(True)\n",
    "# plt.plot([0,0.5],[0,1], linestyle='--',color='black')\n",
    "\n",
    "xlim=np.arange(0,0.3,0.05)\n",
    "ylim=np.arange(0.2,1,0.2)\n",
    "\n",
    "# plt.xticks.set_major_formatter(FormatStrFormatter('%g'))\n",
    "plt.xticks(xlim)\n",
    "plt.yticks(ylim)\n",
    "\n",
    "plt.xlim([0,0.2])\n",
    "plt.ylim([0,1])\n",
    "\n",
    "plt.xlabel('False Positive Rate')\n",
    "plt.ylabel('True Positive Rate')\n",
    "# plt.title('Receiver operating characteristic example')\n",
    "plt.legend(loc=\"lower right\")\n",
    "# plt.savefig('/home/ilab/Jupyter/Learing-CNN/Image/Merge_Resnet_Fusion.png',figsize=(50, 50), dpi=400)\n",
    "plt.savefig('/home/ilab/Jupyter/Learing-CNN/Image/State_Of_Art.png',figsize=(50, 50), dpi=400)\n",
    "\n",
    "plt.show()"
   ]
  },
  {
   "cell_type": "markdown",
   "metadata": {},
   "source": [
    "# Draw The Bar Graph"
   ]
  },
  {
   "cell_type": "code",
   "execution_count": 7,
   "metadata": {
    "scrolled": false
   },
   "outputs": [
    {
     "data": {
      "image/png": "[encoded data removed]",
      "text/plain": [
       "<matplotlib.figure.Figure at 0x7f7d8a881e90>"
      ]
     },
     "metadata": {},
     "output_type": "display_data"
    }
   ],
   "source": [
    "import matplotlib.pyplot as plt\n",
    "import numpy as np\n",
    "\n",
    "num=4\n",
    "\n",
    "x = np.arange(num)\n",
    "\n",
    "# money = [81, 85, 83, 87,84]\n",
    "\n",
    "# different convolutions\n",
    "# auc = [90.1, 89.8, 88.7, 88.8,89.1]\n",
    "\n",
    "# accuracy = [84.4, 84.1, 86.2, 82.7,87.6,86.7]\n",
    "# sensitivity = [89.4, 91.1, 87.1, 88.2,94.1,92.2]\n",
    "# specificity = [80, 76.7, 82.2, 76.7,79.4,83.1]\n",
    "\n",
    "\n",
    "accuracy = [84.3,85.3, 85.4, 88.6]\n",
    "sensitivity = [85.7,86.1, 76.5, 87.3]\n",
    "specificity = [81.1,83.1, 94.4, 90.3]\n",
    "\n",
    "\n",
    "# # #state-of-art\n",
    "# accuracy = [ 87.0, 87.7, 87.9,88.3]\n",
    "# sensitivity = [76.9, 82.1, 78.6, 86.3]\n",
    "# specificity = [ 90.8, 91.1, 92.2, 90.3]\n",
    "\n",
    "\n",
    "colors=['#FF0000']*num\n",
    "colors_x=['#008000']*num\n",
    "colors_y=['#0000FF']*num\n",
    "\n",
    "\n",
    "\n",
    "\n",
    "\n",
    "\n",
    "# colors=['blue']*num\n",
    "# colors_x=['gold']*num\n",
    "# colors_y=['purple']*num\n",
    "\n",
    "\n",
    "# colors=['#0000FF']*num\n",
    "# colors_x=['#FFA500']*num\n",
    "# colors_y=['#008000']*num\n",
    "\n",
    "\n",
    "\n",
    "\n",
    "# colors = ['#FF0000', '#FF0000', '#FF0000', '#FF0000', '#FF0000']\n",
    "# colors_x = ['#00FF00', '#00FF00', '#00FF00', '#00FF00', '#00FF00']\n",
    "# colors_y = ['#0000FF', '#0000FF','#0000FF', '#0000FF', '#0000FF']\n",
    "\n",
    "fig, ax = plt.subplots()\n",
    "# figure(num=None, figsize=(8, 6), dpi=80, facecolor='w', edgecolor='k')\n",
    "# plt.title('Effectiveness Of Fusing Avg-Pooling layer and Residual Block',fontsize=10,y=1.05)\n",
    "\n",
    "\n",
    "ax.set_ylim(20,110)\n",
    "plt.yticks([25,45,65,85],fontsize=11)\n",
    "# plt.ylabel('Classification Accuracy(%)',y=0.5)\n",
    "plt.ylabel('Classification Performance(%)',y=0.5)\n",
    "\n",
    "\n",
    "\n",
    "a=plt.bar(x-0.25, accuracy,color=colors_x,width=0.25,tick_label=colors ,linewidth =0.5)\n",
    "b=plt.bar(x, sensitivity,color=colors,width=0.25,tick_label=colors ,linewidth =0.5)\n",
    "c=plt.bar(x+0.25, specificity,color=colors_y,width=0.25,tick_label=colors ,linewidth =0.5)\n",
    "\n",
    "# plt.bar(x0.7, money,color=colors_x,width=0.7,tick_label=colors ,linewidth =0.5)\n",
    "# plt.autoscale()\n",
    "\n",
    "#roatation  means the lable rotate specific angles\n",
    "ha = ['right', 'center', 'left']\n",
    "# plt.xticks(x, ('Resnet', 'No-Fusion', 'Concatenate-Fusion', 'Add-Fusion','Average-Fusion'),\n",
    "#            fontsize=11,\n",
    "#            rotation=50,ha=ha[0])\n",
    "\n",
    "# plt.xticks(x, ('Resnet', 'No Multi Convolution', 'Two Convolutions Fusion', \n",
    "#                'Three Convolutions Fusion',\n",
    "#                'Four Convolutions Fusion'),\n",
    "#            fontsize=11,\n",
    "#            rotation=50,ha=ha[0])\n",
    "\n",
    "# plt.xticks(x, ('Vgg16', 'ResNet-18', 'CNN', \n",
    "#                'Mluti Merge ResNet'),\n",
    "#            fontsize=11,\n",
    "#            rotation=0,ha=ha[0])\n",
    "\n",
    "plt.xticks(x, ('(a)', '(b)', '(c)', \n",
    "               '(d)'),\n",
    "           fontsize=11,\n",
    "           rotation=0,ha=ha[1])\n",
    "\n",
    "#https://matplotlib.org/api/_as_gen/matplotlib.pyplot.legend.html\n",
    "plt.legend((a[0], b[0],c[0]), ('Accuracy', 'Sensitivity','Specificity'),loc=\"upper left\", bbox_to_anchor=[0, 1],ncol=3)\n",
    "\n",
    "# plt.grid(True)\n",
    "plt.grid(axis='y',linestyle='--')\n",
    "# ax.yaxis.grid(True,linestyle='--')\n",
    "# plt.savefig('/home/ilab/Jupyter/Learing-CNN/Image/Multi_Convolution.png',\n",
    "#             figsize=(50, 50), dpi=400,bbox_inches = 'tight')\n",
    "\n",
    "plt.savefig('/home/ilab/Jupyter/CNN/Voxel_PY/Result/State_Of_Art_His.png',\n",
    "            figsize=(50, 50), dpi=400,bbox_inches = 'tight')\n",
    "# plt.savefig('/home/ilab/Jupyter/Learing-CNN/Image/State_Of_Art_Hism.png',\n",
    "#             figsize=(50, 50), dpi=400,bbox_inches = 'tight')\n",
    "plt.show()\n"
   ]
  },
  {
   "cell_type": "code",
   "execution_count": 2,
   "metadata": {},
   "outputs": [
    {
     "name": "stdout",
     "output_type": "stream",
     "text": [
      "[[13  0  0]\n",
      " [ 0 10  6]\n",
      " [ 0  0  9]]\n",
      "Confusion matrix, without normalization\n",
      "[[13  0  0]\n",
      " [ 0 10  6]\n",
      " [ 0  0  9]]\n",
      "Normalized confusion matrix\n",
      "[[ 1.    0.    0.  ]\n",
      " [ 0.    0.62  0.38]\n",
      " [ 0.    0.    1.  ]]\n"
     ]
    },
    {
     "data": {
      "image/png": "[encoded data removed]",
      "text/plain": [
       "<matplotlib.figure.Figure at 0x7faa2d415b90>"
      ]
     },
     "metadata": {},
     "output_type": "display_data"
    },
    {
     "data": {
      "image/png": "[encoded data removed]",
      "text/plain": [
       "<matplotlib.figure.Figure at 0x7faac418c790>"
      ]
     },
     "metadata": {},
     "output_type": "display_data"
    }
   ],
   "source": [
    "import itertools\n",
    "import numpy as np\n",
    "import matplotlib.pyplot as plt\n",
    "\n",
    "from sklearn import svm, datasets\n",
    "from sklearn.model_selection import train_test_split\n",
    "from sklearn.metrics import confusion_matrix\n",
    "\n",
    "# import some data to play with\n",
    "iris = datasets.load_iris()\n",
    "X = iris.data\n",
    "y = iris.target\n",
    "class_names = iris.target_names\n",
    "\n",
    "# Split the data into a training set and a test set\n",
    "X_train, X_test, y_train, y_test = train_test_split(X, y, random_state=0)\n",
    "\n",
    "# Run classifier, using a model that is too regularized (C too low) to see\n",
    "# the impact on the results\n",
    "classifier = svm.SVC(kernel='linear', C=0.01)\n",
    "y_pred = classifier.fit(X_train, y_train).predict(X_test)\n",
    "\n",
    "\n",
    "def plot_confusion_matrix(cm, classes,\n",
    "                          normalize=False,\n",
    "                          title='Confusion matrix',\n",
    "                          cmap=plt.cm.Blues):\n",
    "    \"\"\"\n",
    "    This function prints and plots the confusion matrix.\n",
    "    Normalization can be applied by setting `normalize=True`.\n",
    "    \"\"\"\n",
    "    if normalize:\n",
    "        cm = cm.astype('float') / cm.sum(axis=1)[:, np.newaxis]\n",
    "        print(\"Normalized confusion matrix\")\n",
    "    else:\n",
    "        print('Confusion matrix, without normalization')\n",
    "\n",
    "    print(cm)\n",
    "\n",
    "    plt.imshow(cm, interpolation='nearest', cmap=cmap)\n",
    "    plt.title(title)\n",
    "    plt.colorbar()\n",
    "    tick_marks = np.arange(len(classes))\n",
    "    plt.xticks(tick_marks, classes, rotation=45)\n",
    "    plt.yticks(tick_marks, classes)\n",
    "\n",
    "    fmt = '.2f' if normalize else 'd'\n",
    "    thresh = cm.max() / 2.\n",
    "    for i, j in itertools.product(range(cm.shape[0]), range(cm.shape[1])):\n",
    "        plt.text(j, i, format(cm[i, j], fmt),\n",
    "                 horizontalalignment=\"center\",\n",
    "                 color=\"white\" if cm[i, j] > thresh else \"black\")\n",
    "\n",
    "    plt.tight_layout()\n",
    "    plt.ylabel('True label')\n",
    "    plt.xlabel('Predicted label')\n",
    "\n",
    "# Compute confusion matrix\n",
    "cnf_matrix = confusion_matrix(y_test, y_pred)\n",
    "np.set_printoptions(precision=2)\n",
    "\n",
    "\n",
    "# Plot non-normalized confusion matrix\n",
    "plt.figure()\n",
    "plot_confusion_matrix(cnf_matrix, classes=class_names,\n",
    "                      title='Confusion matrix, without normalization')\n",
    "\n",
    "# Plot normalized confusion matrix\n",
    "plt.figure()\n",
    "plot_confusion_matrix(cnf_matrix, classes=class_names, normalize=True,\n",
    "                      title='Normalized confusion matrix')\n",
    "\n",
    "plt.show()\n"
   ]
  },
  {
   "cell_type": "code",
   "execution_count": 13,
   "metadata": {},
   "outputs": [
    {
     "data": {
      "image/png": "[encoded data removed]",
      "text/plain": [
       "<matplotlib.figure.Figure at 0x7f05b6af8210>"
      ]
     },
     "metadata": {},
     "output_type": "display_data"
    }
   ],
   "source": [
    "import matplotlib.pyplot as plt\n",
    "import numpy as np\n",
    "\n",
    "x = np.arange(6)\n",
    "\n",
    "# money = [81, 85, 83, 87,84]\n",
    "\n",
    "auc = [90.1, 89.8, 88.7, 88.8,89.1,89.1]\n",
    "sensitivity = [89.4, 91.1, 87.1, 88.2,94.1,89.1]\n",
    "\n",
    "specificity = [80, 76.7, 82.2, 76.7,79.4,89.1]\n",
    "\n",
    "\n",
    "accuracy = [0.875, 0.826, 0.842, 0.831,0.841,0.837]\n",
    "\n",
    "# colors=['#FF0000']*5\n",
    "# colors_x=['#008000']*5\n",
    "# colors_y=['#0000FF']*5\n",
    "\n",
    "colors = ['#FF0000', '#FF0000', '#FF0000', '#FF0000', '#FF0000','orange']\n",
    "colors_x = ['#00FF00', '#00FF00', '#00FF00', '#00FF00', '#00FF00','']\n",
    "colors_y = ['#0000FF', '#0000FF','#0000FF', '#0000FF', '#0000FF']\n",
    "\n",
    "\n",
    "colors = ['red', 'green', 'blue', 'orange', 'black','purple']\n",
    "\n",
    "\n",
    "fig, ax = plt.subplots()\n",
    "# figure(num=None, figsize=(8, 6), dpi=80, facecolor='w', edgecolor='k')\n",
    "# plt.title('Effectiveness Of Fusing Avg-Pooling layer and Residual Block',fontsize=10,y=1.05)\n",
    "\n",
    "\n",
    "ax.set_ylim(0.35,0.95)\n",
    "plt.yticks([0.35,0.55,0.75],fontsize=11)\n",
    "# plt.ylabel('Classification Accuracy(%)',y=0.5)\n",
    "plt.ylabel('Classification Performance',y=0.5)\n",
    "\n",
    "\n",
    "\n",
    "# a=plt.bar(x-0.25, auc,color=colors_x,width=0.25,tick_label=colors ,linewidth =0.5)\n",
    "b=plt.bar(x, accuracy,color=colors,width=0.7,tick_label=colors ,linewidth =0.5)\n",
    "# c=plt.bar(x+0.25, specificity,color=colors_y,width=0.25,tick_label=colors ,linewidth =0.5)\n",
    "\n",
    "# plt.bar(x0.7, money,color=colors_x,width=0.7,tick_label=colors ,linewidth =0.5)\n",
    "# plt.autoscale()\n",
    "\n",
    "#roatation  means the lable rotate specific angles\n",
    "ha = ['right', 'center', 'left']\n",
    "plt.xticks(x, ('Resnet', 'No-Fusion', 'Concatenate-Fusion', 'Add-Fusion','Average-Fusion'),\n",
    "           fontsize=11,\n",
    "           rotation=50,ha=ha[0])\n",
    "\n",
    "plt.xticks(x, ('Resnet', 'No Multi Convolution', 'Two Convolutions Fusion', \n",
    "               'Three Convolutions Fusion',\n",
    "               'Four Convolutions Fusion'),\n",
    "           fontsize=11,\n",
    "           rotation=50,ha=ha[0])\n",
    "\n",
    "plt.xticks(x, ('Resnet', 'No Multi Convolution', 'Two Convolutions Fusion', \n",
    "               'Three Convolutions Fusion',\n",
    "               'Four Convolutions Fusion'),\n",
    "           fontsize=11,\n",
    "           rotation=50,ha=ha[0])\n",
    "\n",
    "\n",
    "\n",
    "#https://matplotlib.org/api/_as_gen/matplotlib.pyplot.legend.html\n",
    "# plt.legend((a[0], b[0],c[0]), ('Sensitivity', 'AUC','Specificity'),loc=\"upper left\", bbox_to_anchor=[0, 1],ncol=3)\n",
    "\n",
    "# plt.grid(True)\n",
    "plt.grid(axis='y',linestyle='--')\n",
    "# ax.yaxis.grid(True,linestyle='--')\n",
    "# plt.savefig('/home/ilab/Jupyter/Learing-CNN/Image/Multi_Convolution.png',\n",
    "#             figsize=(50, 50), dpi=400,bbox_inches = 'tight')\n",
    "plt.show()\n"
   ]
  },
  {
   "cell_type": "markdown",
   "metadata": {},
   "source": [
    "# Drwa Scatter Pic\n"
   ]
  },
  {
   "cell_type": "code",
   "execution_count": 5,
   "metadata": {},
   "outputs": [
    {
     "data": {
      "image/png": "[encoded data removed]",
      "text/plain": [
       "<matplotlib.figure.Figure at 0x7f12ff31e4d0>"
      ]
     },
     "metadata": {},
     "output_type": "display_data"
    }
   ],
   "source": [
    "import numpy as np\n",
    "import matplotlib.pyplot as plt\n",
    "\n",
    "# Fixing random state for reproducibility\n",
    "np.random.seed(19680801)\n",
    "\n",
    "\n",
    "N = 50\n",
    "x = np.random.rand(N)\n",
    "y = np.random.rand(N)\n",
    "colors = np.random.rand(N)\n",
    "area = np.pi * (15 * np.random.rand(N))**2  # 0 to 15 point radii\n",
    "\n",
    "# plt.scatter(x, y, s=area, c=colors, alpha=0.5)\n",
    "plt.scatter(x, y, c=colors, alpha=0.5)\n",
    "\n",
    "plt.show()\n"
   ]
  },
  {
   "cell_type": "code",
   "execution_count": 4,
   "metadata": {
    "scrolled": false
   },
   "outputs": [
    {
     "data": {
      "image/png": "[encoded data removed]",
      "text/plain": [
       "<matplotlib.figure.Figure at 0x7f2307fe9f10>"
      ]
     },
     "metadata": {},
     "output_type": "display_data"
    }
   ],
   "source": [
    "import numpy as np\n",
    "import matplotlib.pyplot as plt\n",
    "data = np.random.randn(100,5)\n",
    "plt.boxplot(data)\n",
    "plt.show()\n"
   ]
  },
  {
   "cell_type": "code",
   "execution_count": 2,
   "metadata": {},
   "outputs": [
    {
     "data": {
      "image/png": "[encoded data removed]",
      "text/plain": [
       "<matplotlib.figure.Figure at 0x7f230827df50>"
      ]
     },
     "metadata": {},
     "output_type": "display_data"
    }
   ],
   "source": [
    "import numpy as np\n",
    "import matplotlib.pyplot as plt\n",
    "A = np.random.standard_normal((100, 2))\n",
    "A += np.array((-1, -1)) # Center the distrib. at <-1, -1>\n",
    "B = np.random.standard_normal((100, 2))\n",
    "B += np.array((1, 1)) # Center the distrib. at <1, 1>\n",
    "plt.scatter(A[:,0], A[:,1], color = '.25')\n",
    "plt.scatter(B[:,0], B[:,1], color = '.75')\n",
    "plt.show()"
   ]
  },
  {
   "cell_type": "code",
   "execution_count": null,
   "metadata": {
    "collapsed": true
   },
   "outputs": [],
   "source": [
    "import numpy as np                                                               \n",
    "import matplotlib.pyplot as plt                                                                                                                                 \n",
    "\n",
    "fig = plt.figure()                                                               \n",
    "ax = fig.add_subplot(1,1,1)                                                      \n",
    "\n",
    "# major ticks every 20, minor ticks every 5                                      \n",
    "major_ticks = np.arange(0, 101, 20)                                              \n",
    "minor_ticks = np.arange(0, 101, 5)                                               \n",
    "\n",
    "ax.set_xticks(major_ticks)                                                       \n",
    "ax.set_xticks(minor_ticks, minor=True)                                           \n",
    "ax.set_yticks(major_ticks)                                                       \n",
    "ax.set_yticks(minor_ticks, minor=True)                                           \n",
    "\n",
    "# and a corresponding grid                                                       \n",
    "\n",
    "ax.grid(which='both')                                                            \n",
    "\n",
    "# or if you want differnet settings for the grids:                               \n",
    "ax.grid(which='minor', alpha=0.2)                                                \n",
    "ax.grid(which='major', alpha=0.5)                                                \n",
    "\n",
    "plt.show()"
   ]
  }
 ],
 "metadata": {
  "kernelspec": {
   "display_name": "Python 2",
   "language": "python",
   "name": "python2"
  },
  "language_info": {
   "codemirror_mode": {
    "name": "ipython",
    "version": 2
   },
   "file_extension": ".py",
   "mimetype": "text/x-python",
   "name": "python",
   "nbconvert_exporter": "python",
   "pygments_lexer": "ipython2",
   "version": "2.7.13"
  }
 },
 "nbformat": 4,
 "nbformat_minor": 2
}
